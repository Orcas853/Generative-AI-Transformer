{
 "cells": [
  {
   "cell_type": "markdown",
   "id": "7d6c3a96-f8aa-42b1-b950-627992d76d38",
   "metadata": {},
   "source": [
    "NAND gate perceptron"
   ]
  },
  {
   "cell_type": "code",
   "execution_count": 32,
   "id": "a3942fa2-7292-4f9d-bed0-612745205fb8",
   "metadata": {},
   "outputs": [],
   "source": [
    "import numpy as np"
   ]
  },
  {
   "cell_type": "code",
   "execution_count": 82,
   "id": "ce25bebd-901a-401a-8acb-86700d388ce7",
   "metadata": {},
   "outputs": [],
   "source": [
    "class Perceptron:\n",
    "    def __init__(self):\n",
    "        self.inputs=np.array([[1,1,0,0],[0,1,1,0],[1,1,1,1]])\n",
    "        self.z=np.array([[1],[0],[1],[1]])\n",
    "        self.weights_bias=np.zeros((1,3))\n",
    "        self.alpha=0.2\n",
    "        self.x=np.array([[0],[0],[0],[0]])\n",
    "        \n",
    "    def forward_prop(self):\n",
    "        self.x=np.matmul(self.weights_bias, self.inputs).T\n",
    "\n",
    "    def cost(self):\n",
    "        a=(self.x-self.z)**2\n",
    "        a=(a.sum(0))/4\n",
    "        print(a)\n",
    "        \n",
    "    def backprop(self):\n",
    "        for i in range(100):\n",
    "            self.forward_prop()\n",
    "            v=np.dot(self.inputs,(self.x-self.z))\n",
    "            self.weights_bias=self.weights_bias-(self.alpha*(v.T))            \n",
    "            \n",
    "    def output(self,a,b):\n",
    "        x=np.matmul(self.weights_bias, np.array([[float(a)],[float(b)],[1]]))\n",
    "        if x>1:\n",
    "            x=1\n",
    "        if x<0.4:\n",
    "            x=0\n",
    "        return x"
   ]
  },
  {
   "cell_type": "code",
   "execution_count": 84,
   "id": "fff3f673-b6a0-4a71-a323-db34b9774129",
   "metadata": {},
   "outputs": [],
   "source": [
    "X=Perceptron()"
   ]
  },
  {
   "cell_type": "code",
   "execution_count": 86,
   "id": "a701127f-06fc-485e-b030-9788cb4d05d7",
   "metadata": {},
   "outputs": [],
   "source": [
    "X.backprop()"
   ]
  },
  {
   "cell_type": "code",
   "execution_count": 88,
   "id": "79823304-4a01-4b9b-8a79-36ad76d81ecc",
   "metadata": {},
   "outputs": [
    {
     "name": "stdout",
     "output_type": "stream",
     "text": [
      "1\n"
     ]
    }
   ],
   "source": [
    "print(X.output(0,0))"
   ]
  },
  {
   "cell_type": "code",
   "execution_count": 90,
   "id": "46a7c3ad-bf9c-460c-95d5-bf82db7f5ff2",
   "metadata": {},
   "outputs": [
    {
     "name": "stdout",
     "output_type": "stream",
     "text": [
      "[0.0625]\n"
     ]
    }
   ],
   "source": [
    "X.cost()"
   ]
  },
  {
   "cell_type": "markdown",
   "id": "8e3f8222-235f-4607-86c1-6459dafdb05f",
   "metadata": {},
   "source": [
    "Now for building a full adder"
   ]
  },
  {
   "cell_type": "code",
   "execution_count": null,
   "id": "ca9329b8-d496-4dbe-a949-9fc7a89a401d",
   "metadata": {},
   "outputs": [],
   "source": []
  },
  {
   "cell_type": "code",
   "execution_count": 243,
   "id": "2544d4b5-9727-41fa-a9f1-b87ea6364c0c",
   "metadata": {},
   "outputs": [],
   "source": [
    "class Fulladder:\n",
    "    def __init__(self):\n",
    "        a=int(input())\n",
    "        b=int(input())\n",
    "        cin=int(input())\n",
    "        x1=X.output(a,b)\n",
    "        \n",
    "        x2=X.output(a,x1)\n",
    "        \n",
    "        x3=X.output(x1,b)\n",
    "        \n",
    "        x4=X.output(x2,x3)\n",
    "        \n",
    "        x5=X.output(cin,x4)\n",
    "        \n",
    "        x6=X.output(x4,x5)\n",
    "        \n",
    "        x7=X.output(x5,cin)\n",
    "        \n",
    "        self.Sum=X.output(x6,x7)\n",
    "        \n",
    "        self.Cout=X.output(x1,x5)\n",
    "    def sum(self):\n",
    "        x=self.Sum\n",
    "        if x<0.5:\n",
    "            return 0\n",
    "        else:\n",
    "            return 1\n",
    "    def cout(self):\n",
    "        x=self.Cout\n",
    "        if x<0.5:\n",
    "            return 0\n",
    "        else:\n",
    "            return 1"
   ]
  },
  {
   "cell_type": "code",
   "execution_count": 245,
   "id": "83bfc57a-9937-49cb-90fc-785129e74f9f",
   "metadata": {},
   "outputs": [
    {
     "name": "stdin",
     "output_type": "stream",
     "text": [
      " 1\n",
      " 0\n",
      " 1\n"
     ]
    },
    {
     "name": "stderr",
     "output_type": "stream",
     "text": [
      "C:\\Users\\Shayna Sinha\\AppData\\Local\\Temp\\ipykernel_38072\\2140419745.py:24: DeprecationWarning: Conversion of an array with ndim > 0 to a scalar is deprecated, and will error in future. Ensure you extract a single element from your array before performing this operation. (Deprecated NumPy 1.25.)\n",
      "  x=np.matmul(self.weights_bias, np.array([[float(a)],[float(b)],[1]]))\n"
     ]
    }
   ],
   "source": [
    "A=Fulladder()"
   ]
  },
  {
   "cell_type": "code",
   "execution_count": 238,
   "id": "26ec8e73-6d7c-41bf-94b4-289f3f789bb6",
   "metadata": {},
   "outputs": [
    {
     "name": "stdout",
     "output_type": "stream",
     "text": [
      "1\n"
     ]
    }
   ],
   "source": [
    "print(A.sum())"
   ]
  },
  {
   "cell_type": "markdown",
   "id": "82cfa781-3819-498d-9d12-fdb7610a81fa",
   "metadata": {},
   "source": [
    "Making a Ripple carry adder using the full adder:"
   ]
  },
  {
   "cell_type": "code",
   "execution_count": null,
   "id": "88b1b864-3b8d-4001-bb9a-2d05e491b21d",
   "metadata": {},
   "outputs": [],
   "source": []
  }
 ],
 "metadata": {
  "kernelspec": {
   "display_name": "Python [conda env:base] *",
   "language": "python",
   "name": "conda-base-py"
  },
  "language_info": {
   "codemirror_mode": {
    "name": "ipython",
    "version": 3
   },
   "file_extension": ".py",
   "mimetype": "text/x-python",
   "name": "python",
   "nbconvert_exporter": "python",
   "pygments_lexer": "ipython3",
   "version": "3.12.7"
  }
 },
 "nbformat": 4,
 "nbformat_minor": 5
}
